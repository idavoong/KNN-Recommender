{
 "cells": [
  {
   "cell_type": "code",
   "execution_count": 8,
   "id": "16eaacd9",
   "metadata": {},
   "outputs": [],
   "source": [
    "import duckdb\n",
    "\n",
    "months = {\n",
    "    \"Frostmere\": 1,\n",
    "    \"Emberfall\": 2,\n",
    "    \"Lunaris\": 3,\n",
    "    \"Verdantia\": 4,\n",
    "    \"Solstice\": 5,\n",
    "    \"Duskveil\": 6,\n",
    "    \"Starshade\": 7,\n",
    "    \"Aurorath\": 8,\n",
    "    \"Mysthaven\": 9,\n",
    "    \"Eclipsion\": 10,\n",
    "}\n",
    "\n",
    "days = {\n",
    "    \"Edgeday\": 1,\n",
    "    \"Bloomday\": 2,\n",
    "    \"ArcanaDay\": 3,\n",
    "    \"Hearthday\": 4,\n",
    "    \"Crownday\": 5,\n",
    "    \"Soulday\": 6,\n",
    "}"
   ]
  },
  {
   "cell_type": "code",
   "execution_count": 9,
   "id": "e39df3dd",
   "metadata": {},
   "outputs": [
    {
     "name": "stdout",
     "output_type": "stream",
     "text": [
      "┌────────────────┬───────┐\n",
      "│ adventurer_id  │ views │\n",
      "│    varchar     │ int64 │\n",
      "├────────────────┼───────┤\n",
      "│ ih3j           │    43 │\n",
      "│ utgz           │    35 │\n",
      "│ 2nxf           │    35 │\n",
      "│ hkse           │    33 │\n",
      "│ h6cp           │    32 │\n",
      "│ 64bi           │    31 │\n",
      "│ z2wn           │    31 │\n",
      "│ tzvu           │    31 │\n",
      "│ rizu           │    31 │\n",
      "│ cacl           │    30 │\n",
      "│  ·             │     · │\n",
      "│  ·             │     · │\n",
      "│  ·             │     · │\n",
      "│ ylai           │     5 │\n",
      "│ gn7u           │     5 │\n",
      "│ s1ok           │     5 │\n",
      "│ ev6m           │     5 │\n",
      "│ ztcy           │     5 │\n",
      "│ 9joc           │     5 │\n",
      "│ 1pza           │     5 │\n",
      "│ ls8a           │     5 │\n",
      "│ elmj           │     5 │\n",
      "│ a6rg           │     5 │\n",
      "├────────────────┴───────┤\n",
      "│ ? rows       2 columns │\n",
      "└────────────────────────┘\n",
      "\n"
     ]
    }
   ],
   "source": [
    "q = f\"\"\"\n",
    "SELECT adventurer_id, COUNT(adventurer_id) AS views\n",
    "FROM 'data/content_views.parquet'\n",
    "GROUP BY adventurer_id\n",
    "ORDER BY views DESC\n",
    "\"\"\"\n",
    "\n",
    "print(duckdb.sql(q))"
   ]
  },
  {
   "cell_type": "code",
   "execution_count": null,
   "id": "15eedd57",
   "metadata": {},
   "outputs": [
    {
     "name": "stdout",
     "output_type": "stream",
     "text": [
      "┌───────────────┬──────────────┬───────────┬───────────┬──────────────┬───────┐\n",
      "│ adventurer_id │ publisher_id │   month   │    day    │ day_of_month │ year  │\n",
      "│    varchar    │   varchar    │  varchar  │  varchar  │    int64     │ int64 │\n",
      "├───────────────┼──────────────┼───────────┼───────────┼──────────────┼───────┤\n",
      "│ ih3j          │ y93m         │ Frostmere │ Soulday   │           12 │ 10234 │\n",
      "│ ih3j          │ 22ke         │ Frostmere │ Edgeday   │            7 │ 10234 │\n",
      "│ ih3j          │ jttf         │ Emberfall │ Crownday  │           17 │ 10234 │\n",
      "│ ih3j          │ 3buj         │ Lunaris   │ ArcanaDay │           15 │ 10234 │\n",
      "│ ih3j          │ qsdj         │ Verdantia │ Hearthday │           16 │ 10234 │\n",
      "│ ih3j          │ xhbn         │ Verdantia │ Hearthday │           22 │ 10234 │\n",
      "│ ih3j          │ bgrt         │ Verdantia │ ArcanaDay │            9 │ 10234 │\n",
      "│ ih3j          │ 22ke         │ Verdantia │ Soulday   │           12 │ 10234 │\n",
      "│ ih3j          │ y93m         │ Solstice  │ Hearthday │           16 │ 10234 │\n",
      "│ ih3j          │ 4jjd         │ Duskveil  │ ArcanaDay │           21 │ 10234 │\n",
      "│ ih3j          │ xhbn         │ Mysthaven │ Edgeday   │           13 │ 10234 │\n",
      "│ ih3j          │ 22ke         │ Mysthaven │ Hearthday │           16 │ 10234 │\n",
      "├───────────────┴──────────────┴───────────┴───────────┴──────────────┴───────┤\n",
      "│ 12 rows                                                           6 columns │\n",
      "└─────────────────────────────────────────────────────────────────────────────┘\n",
      "\n",
      "┌───────────────┬──────────────┬───────────┬───────────┬──────────────┬───────┐\n",
      "│ adventurer_id │ publisher_id │   month   │    day    │ day_of_month │ year  │\n",
      "│    varchar    │   varchar    │  varchar  │  varchar  │    int64     │ int64 │\n",
      "├───────────────┼──────────────┼───────────┼───────────┼──────────────┼───────┤\n",
      "│ ih3j          │ y93m         │ Lunaris   │ Soulday   │           12 │ 10234 │\n",
      "│ ih3j          │ 22ke         │ Emberfall │ Edgeday   │            7 │ 10234 │\n",
      "│ ih3j          │ 3buj         │ Verdantia │ ArcanaDay │           15 │ 10234 │\n",
      "│ ih3j          │ xhbn         │ Duskveil  │ Hearthday │           22 │ 10234 │\n",
      "│ ih3j          │ bgrt         │ Duskveil  │ ArcanaDay │            9 │ 10234 │\n",
      "│ ih3j          │ 22ke         │ Duskveil  │ Soulday   │           12 │ 10234 │\n",
      "│ ih3j          │ y93m         │ Duskveil  │ Hearthday │           16 │ 10234 │\n",
      "└───────────────┴──────────────┴───────────┴───────────┴──────────────┴───────┘\n",
      "\n"
     ]
    },
    {
     "data": {
      "text/plain": [
       "'\\njttf\\n3buj\\nqsdj \\nxhbn         \\nbgrt    22ke              \\n'"
      ]
     },
     "execution_count": 13,
     "metadata": {},
     "output_type": "execute_result"
    }
   ],
   "source": [
    "q = f\"\"\"\n",
    "SELECT *\n",
    "FROM 'data/subscriptions.parquet'\n",
    "WHERE adventurer_id = 'ih3j'\n",
    "\"\"\"\n",
    "\n",
    "print(duckdb.sql(q))\n",
    "\n",
    "q = f\"\"\"\n",
    "SELECT *\n",
    "FROM 'data/cancellations.parquet'\n",
    "WHERE adventurer_id = 'ih3j'\n",
    "\"\"\"\n",
    "\n",
    "print(duckdb.sql(q))\n",
    "\n",
    "\"\"\"\n",
    "jttf\n",
    "qsdj               \n",
    "4jjd    \n",
    "xhbn   \n",
    "22ke                                      \n",
    "\"\"\""
   ]
  },
  {
   "cell_type": "code",
   "execution_count": null,
   "id": "8c97e467",
   "metadata": {},
   "outputs": [
    {
     "name": "stdout",
     "output_type": "stream",
     "text": [
      "┌───────────────┬──────────────┬───────────┬───────────┬──────────────┬───────┐\n",
      "│ adventurer_id │ publisher_id │   month   │    day    │ day_of_month │ year  │\n",
      "│    varchar    │   varchar    │  varchar  │  varchar  │    int64     │ int64 │\n",
      "├───────────────┼──────────────┼───────────┼───────────┼──────────────┼───────┤\n",
      "│ utgz          │ y93m         │ Frostmere │ Soulday   │           24 │ 10234 │\n",
      "│ utgz          │ 3buj         │ Verdantia │ Edgeday   │            7 │ 10234 │\n",
      "│ utgz          │ jttf         │ Emberfall │ Edgeday   │           13 │ 10234 │\n",
      "│ utgz          │ 3buj         │ Starshade │ ArcanaDay │           15 │ 10234 │\n",
      "│ utgz          │ xhbn         │ Duskveil  │ Soulday   │           18 │ 10234 │\n",
      "│ utgz          │ 22ke         │ Frostmere │ Crownday  │           23 │ 10234 │\n",
      "│ utgz          │ bgrt         │ Solstice  │ Soulday   │           18 │ 10234 │\n",
      "│ utgz          │ qsdj         │ Starshade │ Hearthday │            4 │ 10234 │\n",
      "└───────────────┴──────────────┴───────────┴───────────┴──────────────┴───────┘\n",
      "\n",
      "┌───────────────┬──────────────┬───────────┬───────────┬──────────────┬───────┐\n",
      "│ adventurer_id │ publisher_id │   month   │    day    │ day_of_month │ year  │\n",
      "│    varchar    │   varchar    │  varchar  │  varchar  │    int64     │ int64 │\n",
      "├───────────────┼──────────────┼───────────┼───────────┼──────────────┼───────┤\n",
      "│ utgz          │ y93m         │ Verdantia │ Soulday   │           24 │ 10234 │\n",
      "│ utgz          │ 3buj         │ Solstice  │ Edgeday   │            7 │ 10234 │\n",
      "│ utgz          │ jttf         │ Solstice  │ Edgeday   │           13 │ 10234 │\n",
      "│ utgz          │ 3buj         │ Mysthaven │ ArcanaDay │           15 │ 10234 │\n",
      "│ utgz          │ 22ke         │ Duskveil  │ Crownday  │           23 │ 10234 │\n",
      "│ utgz          │ bgrt         │ Starshade │ Soulday   │           18 │ 10234 │\n",
      "│ utgz          │ qsdj         │ Aurorath  │ Hearthday │            4 │ 10234 │\n",
      "└───────────────┴──────────────┴───────────┴───────────┴──────────────┴───────┘\n",
      "\n"
     ]
    },
    {
     "data": {
      "text/plain": [
       "'\\n=                                  \\n'"
      ]
     },
     "execution_count": 14,
     "metadata": {},
     "output_type": "execute_result"
    }
   ],
   "source": [
    "q = f\"\"\"\n",
    "SELECT *\n",
    "FROM 'data/subscriptions.parquet'\n",
    "WHERE adventurer_id = 'utgz'\n",
    "\"\"\"\n",
    "\n",
    "print(duckdb.sql(q))\n",
    "\n",
    "q = f\"\"\"\n",
    "SELECT *\n",
    "FROM 'data/cancellations.parquet'\n",
    "WHERE adventurer_id = 'utgz'\n",
    "\"\"\"\n",
    "\n",
    "print(duckdb.sql(q))\n",
    "\n",
    "\"\"\"\n",
    "xhbn                                \n",
    "\"\"\""
   ]
  },
  {
   "cell_type": "code",
   "execution_count": null,
   "id": "ec91f0b2",
   "metadata": {},
   "outputs": [
    {
     "name": "stdout",
     "output_type": "stream",
     "text": [
      "┌───────────────┬──────────────┬───────────┬───────────┬──────────────┬───────┐\n",
      "│ adventurer_id │ publisher_id │   month   │    day    │ day_of_month │ year  │\n",
      "│    varchar    │   varchar    │  varchar  │  varchar  │    int64     │ int64 │\n",
      "├───────────────┼──────────────┼───────────┼───────────┼──────────────┼───────┤\n",
      "│ 2nxf          │ 3buj         │ Mysthaven │ Bloomday  │            2 │ 10234 │\n",
      "│ 2nxf          │ y93m         │ Emberfall │ Bloomday  │            2 │ 10234 │\n",
      "│ 2nxf          │ jttf         │ Lunaris   │ Hearthday │           22 │ 10234 │\n",
      "│ 2nxf          │ 22ke         │ Frostmere │ Soulday   │           18 │ 10234 │\n",
      "│ 2nxf          │ 4jjd         │ Starshade │ Bloomday  │           14 │ 10234 │\n",
      "│ 2nxf          │ bgrt         │ Starshade │ ArcanaDay │           15 │ 10234 │\n",
      "│ 2nxf          │ y93m         │ Duskveil  │ Edgeday   │            7 │ 10234 │\n",
      "│ 2nxf          │ qsdj         │ Verdantia │ Bloomday  │           14 │ 10234 │\n",
      "│ 2nxf          │ 22ke         │ Duskveil  │ Bloomday  │           20 │ 10234 │\n",
      "│ 2nxf          │ jttf         │ Aurorath  │ Crownday  │           11 │ 10234 │\n",
      "│ 2nxf          │ xhbn         │ Aurorath  │ Hearthday │           22 │ 10234 │\n",
      "├───────────────┴──────────────┴───────────┴───────────┴──────────────┴───────┤\n",
      "│ 11 rows                                                           6 columns │\n",
      "└─────────────────────────────────────────────────────────────────────────────┘\n",
      "\n",
      "┌───────────────┬──────────────┬───────────┬───────────┬──────────────┬───────┐\n",
      "│ adventurer_id │ publisher_id │   month   │    day    │ day_of_month │ year  │\n",
      "│    varchar    │   varchar    │  varchar  │  varchar  │    int64     │ int64 │\n",
      "├───────────────┼──────────────┼───────────┼───────────┼──────────────┼───────┤\n",
      "│ 2nxf          │ y93m         │ Verdantia │ Bloomday  │            2 │ 10234 │\n",
      "│ 2nxf          │ jttf         │ Solstice  │ Hearthday │           22 │ 10234 │\n",
      "│ 2nxf          │ 22ke         │ Verdantia │ Soulday   │           18 │ 10234 │\n",
      "│ 2nxf          │ 4jjd         │ Mysthaven │ Bloomday  │           14 │ 10234 │\n",
      "│ 2nxf          │ y93m         │ Aurorath  │ Edgeday   │            7 │ 10234 │\n",
      "│ 2nxf          │ qsdj         │ Duskveil  │ Bloomday  │           14 │ 10234 │\n",
      "└───────────────┴──────────────┴───────────┴───────────┴──────────────┴───────┘\n",
      "\n"
     ]
    },
    {
     "data": {
      "text/plain": [
       "'\\n                              \\n'"
      ]
     },
     "execution_count": 15,
     "metadata": {},
     "output_type": "execute_result"
    }
   ],
   "source": [
    "q = f\"\"\"\n",
    "SELECT *\n",
    "FROM 'data/subscriptions.parquet'\n",
    "WHERE adventurer_id = '2nxf'\n",
    "\"\"\"\n",
    "\n",
    "print(duckdb.sql(q))\n",
    "\n",
    "q = f\"\"\"\n",
    "SELECT *\n",
    "FROM 'data/cancellations.parquet'\n",
    "WHERE adventurer_id = '2nxf'\n",
    "\"\"\"\n",
    "\n",
    "print(duckdb.sql(q))\n",
    "\n",
    "\"\"\"\n",
    "3buj\n",
    "bgrt\n",
    "22ke\n",
    "jttf\n",
    "xhbn\n",
    "\"\"\""
   ]
  },
  {
   "cell_type": "code",
   "execution_count": 16,
   "id": "60b978a5",
   "metadata": {},
   "outputs": [
    {
     "name": "stdout",
     "output_type": "stream",
     "text": [
      "┌──────────────┬────────────────────┬───────────┬───────────┬──────────────┬───────┐\n",
      "│ publisher_id │        name        │   month   │    day    │ day_of_month │ year  │\n",
      "│   varchar    │      varchar       │  varchar  │  varchar  │    int64     │ int64 │\n",
      "├──────────────┼────────────────────┼───────────┼───────────┼──────────────┼───────┤\n",
      "│ xhbn         │ Savage Scriptworks │ Verdantia │ Hearthday │           16 │ 10234 │\n",
      "└──────────────┴────────────────────┴───────────┴───────────┴──────────────┴───────┘\n",
      "\n"
     ]
    }
   ],
   "source": [
    "q = f\"\"\"\n",
    "SELECT *\n",
    "FROM 'data/publishers.parquet'\n",
    "WHERE publisher_id = 'xhbn'\n",
    "\"\"\"\n",
    "\n",
    "print(duckdb.sql(q))"
   ]
  },
  {
   "cell_type": "code",
   "execution_count": 25,
   "id": "132cde1f",
   "metadata": {},
   "outputs": [
    {
     "name": "stdout",
     "output_type": "stream",
     "text": [
      "┌──────────┬─────────────┐\n",
      "│ genre_id │ genre_count │\n",
      "│ varchar  │    int64    │\n",
      "├──────────┼─────────────┤\n",
      "│ DOC      │           5 │\n",
      "│ FNT      │           6 │\n",
      "│ ROM      │           5 │\n",
      "│ COM      │           4 │\n",
      "│ ACT      │           2 │\n",
      "│ HOR      │           6 │\n",
      "│ KID      │          12 │\n",
      "│ RLG      │           3 │\n",
      "└──────────┴─────────────┘\n",
      "\n"
     ]
    }
   ],
   "source": [
    "# q = f\"\"\"\n",
    "# SELECT adventurer_id, genre_id, language_code\n",
    "# FROM 'data/content_views.parquet'\n",
    "# LEFT JOIN 'data/content_metadata.parquet' USING (content_id)\n",
    "# WHERE adventurer_id = 'ih3j'\n",
    "# \"\"\"\n",
    "\n",
    "# print(duckdb.sql(q))\n",
    "\n",
    "q = f\"\"\"\n",
    "SELECT genre_id, COUNT(genre_id) AS genre_count\n",
    "FROM 'data/content_views.parquet'\n",
    "LEFT JOIN 'data/content_metadata.parquet' USING (content_id)\n",
    "WHERE adventurer_id = 'ih3j'\n",
    "GROUP BY genre_id\n",
    "\"\"\"\n",
    "print(duckdb.sql(q))"
   ]
  },
  {
   "cell_type": "code",
   "execution_count": 24,
   "id": "1a41ec97",
   "metadata": {},
   "outputs": [
    {
     "name": "stdout",
     "output_type": "stream",
     "text": [
      "┌──────────┬─────────────┐\n",
      "│ genre_id │ genre_count │\n",
      "│ varchar  │    int64    │\n",
      "├──────────┼─────────────┤\n",
      "│ ACT      │           2 │\n",
      "│ RLG      │           3 │\n",
      "│ KID      │          12 │\n",
      "│ DOC      │           3 │\n",
      "│ COM      │           2 │\n",
      "│ FNT      │           6 │\n",
      "│ ROM      │           4 │\n",
      "│ HOR      │           3 │\n",
      "└──────────┴─────────────┘\n",
      "\n"
     ]
    }
   ],
   "source": [
    "q = f\"\"\"\n",
    "SELECT adventurer_id, genre_id, language_code\n",
    "FROM 'data/content_views.parquet'\n",
    "LEFT JOIN 'data/content_metadata.parquet' USING (content_id)\n",
    "WHERE adventurer_id = 'utgz'\n",
    "\"\"\"\n",
    "# print(duckdb.sql(q))\n",
    "\n",
    "q = f\"\"\"\n",
    "SELECT genre_id, COUNT(genre_id) AS genre_count\n",
    "FROM 'data/content_views.parquet'\n",
    "LEFT JOIN 'data/content_metadata.parquet' USING (content_id)\n",
    "WHERE adventurer_id = 'utgz'\n",
    "GROUP BY genre_id\n",
    "\"\"\"\n",
    "print(duckdb.sql(q))"
   ]
  },
  {
   "cell_type": "code",
   "execution_count": 23,
   "id": "2f27e25f",
   "metadata": {},
   "outputs": [
    {
     "name": "stdout",
     "output_type": "stream",
     "text": [
      "┌──────────┬─────────────┐\n",
      "│ genre_id │ genre_count │\n",
      "│ varchar  │    int64    │\n",
      "├──────────┼─────────────┤\n",
      "│ KID      │          12 │\n",
      "│ RLG      │           3 │\n",
      "│ COM      │           2 │\n",
      "│ DOC      │           5 │\n",
      "│ FNT      │           4 │\n",
      "│ ROM      │           1 │\n",
      "│ HOR      │           4 │\n",
      "│ ACT      │           4 │\n",
      "└──────────┴─────────────┘\n",
      "\n"
     ]
    }
   ],
   "source": [
    "q = f\"\"\"\n",
    "SELECT genre_id, COUNT(genre_id) AS genre_count\n",
    "FROM 'data/content_views.parquet'\n",
    "LEFT JOIN 'data/content_metadata.parquet' USING (content_id)\n",
    "WHERE adventurer_id = '2nxf'\n",
    "GROUP BY genre_id\n",
    "\"\"\"\n",
    "\n",
    "print(duckdb.sql(q))"
   ]
  }
 ],
 "metadata": {
  "kernelspec": {
   "display_name": "Python 3",
   "language": "python",
   "name": "python3"
  },
  "language_info": {
   "codemirror_mode": {
    "name": "ipython",
    "version": 3
   },
   "file_extension": ".py",
   "mimetype": "text/x-python",
   "name": "python",
   "nbconvert_exporter": "python",
   "pygments_lexer": "ipython3",
   "version": "3.10.11"
  }
 },
 "nbformat": 4,
 "nbformat_minor": 5
}
